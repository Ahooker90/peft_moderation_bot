{
 "cells": [
  {
   "cell_type": "code",
   "execution_count": 53,
   "id": "7000fd22-4a89-44fd-aee6-13ba7ee39638",
   "metadata": {},
   "outputs": [],
   "source": [
    "from transformers import AutoTokenizer, AutoModel\n",
    "import torch\n",
    "import numpy as np\n",
    "tokenizer =  AutoTokenizer.from_pretrained('BAAI/bge-large-en-v1.5')\n",
    "model = AutoModel.from_pretrained('BAAI/bge-large-zh-v1.5')\n",
    "model.eval()\n",
    "sentences = [\"an unshakable belief in something without need for proof or evidence\",\n",
    "             \"(criminal law) a final judgment of guilty in a criminal case and the punishment that is imposed\",\n",
    "            \n",
    "             \"She spoke with conviction about her beliefs.\",\n",
    "            \"His conviction in his abilities drove him to success.\",\n",
    "            \"Despite criticism, she held fast to her convictions.\",\n",
    "            \"To build that high level of conviction, we focus on fundamentals: the competitive advantages and exceptional executives of high character we believe are key to a company's long-term success.\",\n",
    "            \"His problem, then, is whether to go through with the case or by dropping it virtually insure her conviction by his very act.\",\n",
    "            \"There is also generally no requirement to disclose a spent conviction. \",\n",
    "            \"The dioceses will have to pay huge compensation payments to the victims ordered by the court if there is a conviction. \",\n",
    "            \"Sam Bankman-Fried's conviction marks a monumental fall from grace for a once-celebrated entrepreneur. \"]"
   ]
  },
  {
   "cell_type": "code",
   "execution_count": 80,
   "id": "2ae41a99-0335-48a0-ae1b-804e02e8c73c",
   "metadata": {},
   "outputs": [],
   "source": [
    "encoded_input = tokenizer(sentences, padding=True, truncation=True, return_tensors='pt')"
   ]
  },
  {
   "cell_type": "code",
   "execution_count": 81,
   "id": "375e5144-92d2-452e-8b02-76dd0e8bd1e4",
   "metadata": {},
   "outputs": [
    {
     "data": {
      "application/vnd.jupyter.widget-view+json": {
       "model_id": "6ce5d72434cb4a1ba44412f2059cab41",
       "version_major": 2,
       "version_minor": 0
      },
      "text/plain": [
       "config.json:   0%|          | 0.00/779 [00:00<?, ?B/s]"
      ]
     },
     "metadata": {},
     "output_type": "display_data"
    },
    {
     "data": {
      "application/vnd.jupyter.widget-view+json": {
       "model_id": "2dbe73ba42f5471fb7c11f41c776935d",
       "version_major": 2,
       "version_minor": 0
      },
      "text/plain": [
       "model.safetensors:   0%|          | 0.00/1.34G [00:00<?, ?B/s]"
      ]
     },
     "metadata": {},
     "output_type": "display_data"
    },
    {
     "name": "stdout",
     "output_type": "stream",
     "text": [
      "Sentence embeddings: tensor([[-0.0121, -0.0047,  0.0054,  ...,  0.0595,  0.0196, -0.0337],\n",
      "        [-0.0298, -0.0059, -0.0024,  ...,  0.0192,  0.0232,  0.0218],\n",
      "        [-0.0084, -0.0105, -0.0292,  ..., -0.0105,  0.0077,  0.0099],\n",
      "        ...,\n",
      "        [-0.0468,  0.0247,  0.0061,  ...,  0.0326,  0.0163,  0.0122],\n",
      "        [-0.0424, -0.0063, -0.0338,  ..., -0.0234,  0.0272,  0.0415],\n",
      "        [ 0.0461, -0.0256, -0.0087,  ...,  0.0020, -0.0076,  0.0332]])\n"
     ]
    },
    {
     "data": {
      "text/plain": [
       "torch.Size([10, 1024])"
      ]
     },
     "execution_count": 81,
     "metadata": {},
     "output_type": "execute_result"
    }
   ],
   "source": [
    "from transformers import AutoTokenizer, AutoModel\n",
    "import torch\n",
    "# Sentences we want sentence embeddings for\n",
    "sentences = [\"an unshakable belief in something without need for proof or evidence\",\n",
    "             \"(criminal law) a final judgment of guilty in a criminal case and the punishment that is imposed\",\n",
    "            \n",
    "             \"She spoke with conviction about her beliefs.\",\n",
    "            \"His conviction in his abilities drove him to success.\",\n",
    "            \"Despite criticism, she held fast to her convictions.\",\n",
    "            \"To build that high level of conviction, we focus on fundamentals: the competitive advantages and exceptional executives of high character we believe are key to a company's long-term success.\",\n",
    "            \"His problem, then, is whether to go through with the case or by dropping it virtually insure her conviction by his very act.\",\n",
    "            \"There is also generally no requirement to disclose a spent conviction. \",\n",
    "            \"The dioceses will have to pay huge compensation payments to the victims ordered by the court if there is a conviction. \",\n",
    "            \"Sam Bankman-Fried's conviction marks a monumental fall from grace for a once-celebrated entrepreneur. \"]\n",
    "\n",
    "# Load model from HuggingFace Hub\n",
    "tokenizer = AutoTokenizer.from_pretrained('BAAI/bge-large-en-v1.5')\n",
    "model = AutoModel.from_pretrained('BAAI/bge-large-en-v1.5')\n",
    "model.eval()\n",
    "\n",
    "# Tokenize sentences\n",
    "encoded_input = tokenizer(sentences, padding=True, truncation=True, return_tensors='pt')\n",
    "# for s2p(short query to long passage) retrieval task, add an instruction to query (not add instruction for passages)\n",
    "# encoded_input = tokenizer([instruction + q for q in queries], padding=True, truncation=True, return_tensors='pt')\n",
    "\n",
    "# Compute token embeddings\n",
    "with torch.no_grad():\n",
    "    model_output = model(**encoded_input)\n",
    "    # Perform pooling. In this case, cls pooling.\n",
    "    sentence_embeddings = model_output[0][:, 0]\n",
    "# normalize embeddings\n",
    "sentence_embeddings = torch.nn.functional.normalize(sentence_embeddings, p=2, dim=1)\n",
    "print(\"Sentence embeddings:\", sentence_embeddings)\n",
    "\n",
    "\n",
    "sentence_embeddings.shape"
   ]
  },
  {
   "cell_type": "code",
   "execution_count": 82,
   "id": "12f08bed-27da-4f18-93ab-98dc30af784e",
   "metadata": {},
   "outputs": [
    {
     "data": {
      "text/plain": [
       "torch.Size([10, 39, 1024])"
      ]
     },
     "execution_count": 82,
     "metadata": {},
     "output_type": "execute_result"
    }
   ],
   "source": [
    "model_output[0].shape"
   ]
  },
  {
   "cell_type": "code",
   "execution_count": 88,
   "id": "2a1ba118-e23d-4b50-9caa-1e4a5736c684",
   "metadata": {},
   "outputs": [
    {
     "name": "stdout",
     "output_type": "stream",
     "text": [
      "tensor(1.)\n",
      "tensor(0.4166)\n",
      "tensor(0.5380)\n",
      "tensor(0.4825)\n",
      "tensor(0.4868)\n",
      "tensor(0.3504)\n",
      "tensor(0.4383)\n",
      "tensor(0.4864)\n",
      "tensor(0.3097)\n",
      "tensor(0.3384)\n"
     ]
    }
   ],
   "source": [
    "for i, row in enumerate(sentence_embeddings):\n",
    "    print(row @ sentence_embeddings[0,:])"
   ]
  },
  {
   "cell_type": "code",
   "execution_count": 92,
   "id": "260a54b2-480d-4b25-a3da-4c9916860ad3",
   "metadata": {},
   "outputs": [
    {
     "data": {
      "text/plain": [
       "tensor([[0.5380]])"
      ]
     },
     "execution_count": 92,
     "metadata": {},
     "output_type": "execute_result"
    }
   ],
   "source": [
    "from sentence_transformers import SentenceTransformer, util\n",
    "import numpy as np\n",
    "\n",
    "model = SentenceTransformer('BAAI/bge-large-en-v1.5')\n",
    "\n",
    "def_1 = model.encode(sentences[0])\n",
    "util.dot_score(def_1, model.encode(sentences[2]))"
   ]
  },
  {
   "cell_type": "code",
   "execution_count": 95,
   "id": "1a90926e-bade-420e-b865-a15cc0efd703",
   "metadata": {},
   "outputs": [
    {
     "name": "stdout",
     "output_type": "stream",
     "text": [
      "tensor([[0.4166]])\n",
      "tensor([[1.0000]])\n",
      "tensor([[0.4380]])\n",
      "tensor([[0.4192]])\n",
      "tensor([[0.3579]])\n",
      "tensor([[0.3857]])\n",
      "tensor([[0.4798]])\n",
      "tensor([[0.4505]])\n",
      "tensor([[0.5347]])\n",
      "tensor([[0.4232]])\n"
     ]
    }
   ],
   "source": [
    "for i, row in enumerate(sentences):\n",
    "    print(util.dot_score(model.encode(row),model.encode(sentences[1])))"
   ]
  },
  {
   "cell_type": "code",
   "execution_count": null,
   "id": "654b41c6-16f1-43f1-8aa4-1151a2b5c999",
   "metadata": {},
   "outputs": [],
   "source": []
  }
 ],
 "metadata": {
  "kernelspec": {
   "display_name": "Python 3 (ipykernel)",
   "language": "python",
   "name": "python3"
  },
  "language_info": {
   "codemirror_mode": {
    "name": "ipython",
    "version": 3
   },
   "file_extension": ".py",
   "mimetype": "text/x-python",
   "name": "python",
   "nbconvert_exporter": "python",
   "pygments_lexer": "ipython3",
   "version": "3.11.8"
  }
 },
 "nbformat": 4,
 "nbformat_minor": 5
}
